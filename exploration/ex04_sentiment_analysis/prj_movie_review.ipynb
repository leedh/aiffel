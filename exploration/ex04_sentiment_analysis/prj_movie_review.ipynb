{
 "cells": [
  {
   "cell_type": "markdown",
   "id": "23b3fdba",
   "metadata": {},
   "source": [
    "# 8-1. 프로젝트 : 네이버 영화리뷰 감성분석 도전하기\n",
    "|평가문항\t|상세기준|\n",
    "|:---|:---|\n",
    "|1. 다양한 방법으로 Text Classification 태스크를 성공적으로 구현하였다.|3가지 이상의 모델이 성공적으로 시도됨|\n",
    "|2. gensim을 활용하여 자체학습된 혹은 사전학습된 임베딩 레이어를 분석하였다.|gensim의 유사단어 찾기를 활용하여 자체학습한 임베딩과 사전학습 임베딩을 비교 분석함|\n",
    "|3. 한국어 Word2Vec을 활용하여 가시적인 성능향상을 달성했다.|네이버 영화리뷰 데이터 감성분석 정확도를 85% 이상 달성함|\n",
    "\n",
    "활용할 데이터셋은 네이버 영화의 댓글을 모아 구성된 [Naver sentiment movie corpus](https://github.com/e9t/nsmc)입니다."
   ]
  },
  {
   "cell_type": "code",
   "execution_count": 1,
   "id": "f28fb6a2",
   "metadata": {},
   "outputs": [
    {
     "name": "stdout",
     "output_type": "stream",
     "text": [
      "1.3.3\n",
      "0.5.2\n",
      "4.1.2\n",
      "2.6.0\n"
     ]
    }
   ],
   "source": [
    "import pandas\n",
    "import konlpy\n",
    "import gensim\n",
    "import tensorflow as tf\n",
    "\n",
    "print(pandas.__version__)\n",
    "print(konlpy.__version__)\n",
    "print(gensim.__version__)\n",
    "print(tf.__version__)"
   ]
  },
  {
   "cell_type": "markdown",
   "id": "171c2f5c",
   "metadata": {},
   "source": [
    "## 1) 데이터 준비와 확인"
   ]
  },
  {
   "cell_type": "code",
   "execution_count": 2,
   "id": "94955f35",
   "metadata": {},
   "outputs": [
    {
     "data": {
      "text/html": [
       "<div>\n",
       "<style scoped>\n",
       "    .dataframe tbody tr th:only-of-type {\n",
       "        vertical-align: middle;\n",
       "    }\n",
       "\n",
       "    .dataframe tbody tr th {\n",
       "        vertical-align: top;\n",
       "    }\n",
       "\n",
       "    .dataframe thead th {\n",
       "        text-align: right;\n",
       "    }\n",
       "</style>\n",
       "<table border=\"1\" class=\"dataframe\">\n",
       "  <thead>\n",
       "    <tr style=\"text-align: right;\">\n",
       "      <th></th>\n",
       "      <th>id</th>\n",
       "      <th>document</th>\n",
       "      <th>label</th>\n",
       "    </tr>\n",
       "  </thead>\n",
       "  <tbody>\n",
       "    <tr>\n",
       "      <th>0</th>\n",
       "      <td>9976970</td>\n",
       "      <td>아 더빙.. 진짜 짜증나네요 목소리</td>\n",
       "      <td>0</td>\n",
       "    </tr>\n",
       "    <tr>\n",
       "      <th>1</th>\n",
       "      <td>3819312</td>\n",
       "      <td>흠...포스터보고 초딩영화줄....오버연기조차 가볍지 않구나</td>\n",
       "      <td>1</td>\n",
       "    </tr>\n",
       "    <tr>\n",
       "      <th>2</th>\n",
       "      <td>10265843</td>\n",
       "      <td>너무재밓었다그래서보는것을추천한다</td>\n",
       "      <td>0</td>\n",
       "    </tr>\n",
       "    <tr>\n",
       "      <th>3</th>\n",
       "      <td>9045019</td>\n",
       "      <td>교도소 이야기구먼 ..솔직히 재미는 없다..평점 조정</td>\n",
       "      <td>0</td>\n",
       "    </tr>\n",
       "    <tr>\n",
       "      <th>4</th>\n",
       "      <td>6483659</td>\n",
       "      <td>사이몬페그의 익살스런 연기가 돋보였던 영화!스파이더맨에서 늙어보이기만 했던 커스틴 ...</td>\n",
       "      <td>1</td>\n",
       "    </tr>\n",
       "  </tbody>\n",
       "</table>\n",
       "</div>"
      ],
      "text/plain": [
       "         id                                           document  label\n",
       "0   9976970                                아 더빙.. 진짜 짜증나네요 목소리      0\n",
       "1   3819312                  흠...포스터보고 초딩영화줄....오버연기조차 가볍지 않구나      1\n",
       "2  10265843                                  너무재밓었다그래서보는것을추천한다      0\n",
       "3   9045019                      교도소 이야기구먼 ..솔직히 재미는 없다..평점 조정      0\n",
       "4   6483659  사이몬페그의 익살스런 연기가 돋보였던 영화!스파이더맨에서 늙어보이기만 했던 커스틴 ...      1"
      ]
     },
     "execution_count": 2,
     "metadata": {},
     "output_type": "execute_result"
    }
   ],
   "source": [
    "import pandas as pd\n",
    "\n",
    "# 데이터를 읽어봅시다. \n",
    "train_data = pd.read_table('~/aiffel/sentiment_classification/data/ratings_train.txt')\n",
    "test_data = pd.read_table('~/aiffel/sentiment_classification/data/ratings_test.txt')\n",
    "\n",
    "train_data.head()"
   ]
  },
  {
   "cell_type": "markdown",
   "id": "a3a1a2fd",
   "metadata": {},
   "source": [
    "## 2) 데이터로더 구성\n",
    "실습 때 다루었던 IMDB 데이터셋은 텍스트를 가공하여 imdb.data_loader() 메서드를 호출하면 숫자 인덱스로 변환된 텍스트와 word_to_index 딕셔너리까지 친절하게 제공합니다. 그러나 이번에 다루게 될 nsmc 데이터셋은 전혀 가공되지 않은 텍스트 파일로 이루어져 있습니다. 이것을 읽어서 imdb.data_loader()와 동일하게 동작하는 자신만의 data_loader를 만들어 보는 것으로 시작합니다. data_loader 안에서는 다음을 수행해야 합니다.\n",
    "\n",
    "- 데이터의 중복 제거\n",
    "- NaN 결측치 제거\n",
    "- 한국어 토크나이저로 토큰화\n",
    "- 불용어(Stopwords) 제거\n",
    "- 사전 `word_to_index` 구성\n",
    "- 텍스트 스트링을 사전 인덱스 스트링으로 변환\n",
    "- `X_train`, `y_train`, `X_test`, `y_test`, `word_to_index` 리턴"
   ]
  },
  {
   "cell_type": "code",
   "execution_count": 3,
   "id": "a06c9c9c",
   "metadata": {},
   "outputs": [],
   "source": [
    "from konlpy.tag import Mecab\n",
    "import numpy as np\n",
    "from collections import Counter\n",
    "\n",
    "tokenizer = Mecab()\n",
    "stopwords = ['의','가','이','은','들','는','좀','잘','걍','과','도','를','으로','자','에','와','한','하다']\n",
    "\n",
    "def load_data(train_data, test_data, num_words=10000):\n",
    "    \n",
    "    # 결측치 제거\n",
    "    train_data.drop_duplicates(subset=['document'], inplace=True)\n",
    "    train_data = train_data.dropna(how = 'any') \n",
    "    test_data.drop_duplicates(subset=['document'], inplace=True)\n",
    "    test_data = test_data.dropna(how = 'any') \n",
    "    \n",
    "    # train data\n",
    "    X_train = []\n",
    "    for sentence in train_data['document']:\n",
    "        temp_X = tokenizer.morphs(sentence) # 한국어 토크나이저로 토큰화\n",
    "        temp_X = [word for word in temp_X if not word in stopwords] # 불용어 제거\n",
    "        X_train.append(temp_X)\n",
    "\n",
    "    # test data\n",
    "    X_test = []\n",
    "    for sentence in test_data['document']:\n",
    "        temp_X = tokenizer.morphs(sentence) # 토큰화\n",
    "        temp_X = [word for word in temp_X if not word in stopwords] # 불용어 제거\n",
    "        X_test.append(temp_X)\n",
    "    \n",
    "    # 학습 데이터에서 가장 많이 등장하는 단어를 선택하여 단어 집합(vocabulary) 구성\n",
    "    words = np.concatenate(X_train).tolist() # words에는 학습 데이터에 등장한 모든 단어가 포함된 리스트가 저장\n",
    "    counter = Counter(words) # Counter 클래스를 사용하여 words 리스트 내의 각 단어의 빈도수를 계산\n",
    "    counter = counter.most_common(10000-4) # 빈도수가 가장 높은 단어부터 내림차순으로 정렬된 리스트를 생성, -4를 하는 이유는 이전에 4개의 예약어를 추가했기 때문\n",
    "    vocab = ['', '', '', ''] + [key for key, _ in counter] # 처음 4개의 요소가 빈 문자열('')로 초기화 그리고 이어서 상위 단어들이 추가\n",
    "    word_to_index = {word:index for index, word in enumerate(vocab)} # 딕셔너리\n",
    "    \n",
    "    # 처음 몇 개 인덱스는 사전에 정의되어 있습니다.\n",
    "    word_to_index[\"<PAD>\"] = 0\n",
    "    word_to_index[\"<BOS>\"] = 1\n",
    "    word_to_index[\"<UNK>\"] = 2 # unknown\n",
    "    word_to_index[\"<UNUSED>\"] = 3\n",
    "\n",
    "    # 주어진 단어 리스트(wordlist)를 단어 인덱스 리스트로 변환하는 역할\n",
    "    def wordlist_to_indexlist(wordlist):\n",
    "        return [word_to_index[word] if word in word_to_index else word_to_index[''] for word in wordlist]\n",
    "        \n",
    "    X_train = list(map(wordlist_to_indexlist, X_train))\n",
    "    X_test = list(map(wordlist_to_indexlist, X_test))\n",
    "    \n",
    "    # 리턴\n",
    "    return X_train, np.array(list(train_data['label'])), X_test, np.array(list(test_data['label'])), word_to_index\n",
    "    \n",
    "X_train, y_train, X_test, y_test, word_to_index = load_data(train_data, test_data) "
   ]
  },
  {
   "cell_type": "code",
   "execution_count": 4,
   "id": "caae588d",
   "metadata": {},
   "outputs": [],
   "source": [
    "index_to_word = {index:word for word, index in word_to_index.items()}\n",
    "# 문장 1개를 활용할 딕셔너리와 함께 주면, 단어 인덱스 리스트 벡터로 변환해 주는 함수입니다. \n",
    "# 단, 모든 문장은 <BOS>로 시작하는 것으로 합니다. \n",
    "def get_encoded_sentence(sentence, word_to_index):\n",
    "    return [word_to_index['<BOS>']]+[word_to_index[word] if word in word_to_index else word_to_index['<UNK>'] for word in sentence.split()]\n",
    "\n",
    "# 여러 개의 문장 리스트를 한꺼번에 단어 인덱스 리스트 벡터로 encode해 주는 함수입니다. \n",
    "def get_encoded_sentences(sentences, word_to_index):\n",
    "    return [get_encoded_sentence(sentence, word_to_index) for sentence in sentences]\n",
    "\n",
    "# 숫자 벡터로 encode된 문장을 원래대로 decode하는 함수입니다. \n",
    "def get_decoded_sentence(encoded_sentence, index_to_word):\n",
    "    return ' '.join(index_to_word[index] if index in index_to_word else '<UNK>' for index in encoded_sentence[1:])  #[1:]를 통해 <BOS>를 제외\n",
    "\n",
    "# 여러 개의 숫자 벡터로 encode된 문장을 한꺼번에 원래대로 decode하는 함수입니다. \n",
    "def get_decoded_sentences(encoded_sentences, index_to_word):\n",
    "    return [get_decoded_sentence(encoded_sentence, index_to_word) for encoded_sentence in encoded_sentences]"
   ]
  },
  {
   "cell_type": "markdown",
   "id": "fd02b496",
   "metadata": {},
   "source": [
    "## 3) 모델 구성을 위한 데이터 분석 및 가공\n",
    "- 데이터셋 내 문장 길이 분포\n",
    "- 적절한 최대 문장 길이 지정\n",
    "- keras.preprocessing.sequence.pad_sequences 을 활용한 패딩 추가"
   ]
  },
  {
   "cell_type": "code",
   "execution_count": 5,
   "id": "5bbb922d",
   "metadata": {},
   "outputs": [
    {
     "name": "stdout",
     "output_type": "stream",
     "text": [
      "문장길이 평균 :  15.96940191154864\n",
      "문장길이 최대 :  116\n",
      "문장길이 표준편차 :  12.843571191092\n",
      "pad_sequences maxlen :  41\n",
      "전체 문장의 0.9342988343341575%가 maxlen 설정값 이내에 포함됩니다. \n"
     ]
    }
   ],
   "source": [
    "total_data_text = list(X_train) + list(X_test)\n",
    "# 텍스트데이터 문장길이의 리스트를 생성한 후\n",
    "num_tokens = [len(tokens) for tokens in total_data_text]\n",
    "num_tokens = np.array(num_tokens)\n",
    "# 문장길이의 평균값, 최대값, 표준편차를 계산해 본다. \n",
    "print('문장길이 평균 : ', np.mean(num_tokens))\n",
    "print('문장길이 최대 : ', np.max(num_tokens))\n",
    "print('문장길이 표준편차 : ', np.std(num_tokens))\n",
    "\n",
    "# 예를들어, 최대 길이를 (평균 + 2*표준편차)로 한다면,  \n",
    "max_tokens = np.mean(num_tokens) + 2 * np.std(num_tokens)\n",
    "maxlen = int(max_tokens)\n",
    "print('pad_sequences maxlen : ', maxlen)\n",
    "print(f'전체 문장의 {np.sum(num_tokens < max_tokens) / len(num_tokens)}%가 maxlen 설정값 이내에 포함됩니다. ')"
   ]
  },
  {
   "cell_type": "code",
   "execution_count": 6,
   "id": "cc966509",
   "metadata": {},
   "outputs": [],
   "source": [
    "# pre padding\n",
    "X_train = tf.keras.preprocessing.sequence.pad_sequences(X_train,\n",
    "                                                        value=word_to_index[\"<PAD>\"],\n",
    "                                                        padding='pre',\n",
    "                                                        maxlen=maxlen)\n",
    "\n",
    "X_test = tf.keras.preprocessing.sequence.pad_sequences(X_test,\n",
    "                                                        value=word_to_index[\"<PAD>\"],\n",
    "                                                        padding='pre', \n",
    "                                                        maxlen=maxlen)"
   ]
  },
  {
   "cell_type": "markdown",
   "id": "863b4c4f",
   "metadata": {},
   "source": [
    "## 4) 모델 구성 및 validation set 구성\n",
    "모델은 3가지 이상 다양하게 구성하여 실험해 보세요."
   ]
  },
  {
   "cell_type": "markdown",
   "id": "b9ad96e4",
   "metadata": {},
   "source": [
    "### 첫 번째 모델 CNN"
   ]
  },
  {
   "cell_type": "code",
   "execution_count": 39,
   "id": "999fe34b",
   "metadata": {},
   "outputs": [],
   "source": [
    "def cnn_model(embedding_matrix, maxlen, vocab_size=10000, word_vector_dim=100):\n",
    "    '''\n",
    "    embedding_matrix: 사전 학습된 임베딩 레이어 (없으면 0)\n",
    "    maxlen: 문장의 최대 길이\n",
    "    vocab_size: 어휘 사전의 크기입니다(단어 개수)\n",
    "    word_vector_dim: 워드 벡터의 차원 수 (변경 가능한 하이퍼파라미터)\n",
    "    '''\n",
    "\n",
    "    # model 설계\n",
    "    model = tf.keras.Sequential()\n",
    "    \n",
    "    if type(embedding_matrix) != int:\n",
    "        model.add(tf.keras.layers.Embedding(vocab_size, \n",
    "                                     word_vector_dim, \n",
    "                                     embeddings_initializer=Constant(embedding_matrix),  # 카피한 임베딩을 여기서 활용\n",
    "                                     input_length=maxlen, \n",
    "                                     trainable=True))   # trainable을 True로 주면 Fine-tuning\n",
    "    else:\n",
    "        model.add(tf.keras.layers.Embedding(vocab_size, word_vector_dim, input_shape=(None,)))\n",
    "\n",
    "    model.add(tf.keras.layers.Conv1D(16, 7, activation='relu'))\n",
    "    model.add(tf.keras.layers.MaxPooling1D(5))\n",
    "    model.add(tf.keras.layers.Conv1D(16, 7, activation='relu'))\n",
    "    model.add(tf.keras.layers.GlobalMaxPooling1D())\n",
    "    model.add(tf.keras.layers.Dense(8, activation='relu'))\n",
    "    model.add(tf.keras.layers.Dense(1, activation='sigmoid'))  # 최종 출력은 긍정/부정을 나타내는 1 dim 입니다.\n",
    "    \n",
    "    print(model.summary())\n",
    "    \n",
    "    return model"
   ]
  },
  {
   "cell_type": "code",
   "execution_count": 8,
   "id": "7d1c7087",
   "metadata": {},
   "outputs": [
    {
     "name": "stdout",
     "output_type": "stream",
     "text": [
      "Model: \"sequential\"\n",
      "_________________________________________________________________\n",
      "Layer (type)                 Output Shape              Param #   \n",
      "=================================================================\n",
      "embedding (Embedding)        (None, None, 100)         1000000   \n",
      "_________________________________________________________________\n",
      "conv1d (Conv1D)              (None, None, 16)          11216     \n",
      "_________________________________________________________________\n",
      "max_pooling1d (MaxPooling1D) (None, None, 16)          0         \n",
      "_________________________________________________________________\n",
      "conv1d_1 (Conv1D)            (None, None, 16)          1808      \n",
      "_________________________________________________________________\n",
      "global_max_pooling1d (Global (None, 16)                0         \n",
      "_________________________________________________________________\n",
      "dense (Dense)                (None, 8)                 136       \n",
      "_________________________________________________________________\n",
      "dense_1 (Dense)              (None, 1)                 9         \n",
      "=================================================================\n",
      "Total params: 1,013,169\n",
      "Trainable params: 1,013,169\n",
      "Non-trainable params: 0\n",
      "_________________________________________________________________\n",
      "None\n"
     ]
    }
   ],
   "source": [
    "model_cnn = cnn_model(0,maxlen)"
   ]
  },
  {
   "cell_type": "markdown",
   "id": "a9a90ff9",
   "metadata": {},
   "source": [
    "### 두 번째 모델 RNN"
   ]
  },
  {
   "cell_type": "code",
   "execution_count": 11,
   "id": "d5f64c51",
   "metadata": {},
   "outputs": [],
   "source": [
    "def rnn_model(embedding_matrix, maxlen,vocab_size=10000, word_vector_dim=100):\n",
    "    '''\n",
    "    embedding_matrix: 사전 학습된 임베딩 레이어 (없으면 0)\n",
    "    maxlen: 문장의 최대 길이\n",
    "    vocab_size: 어휘 사전의 크기입니다(단어 개수)\n",
    "    word_vector_dim: 워드 벡터의 차원 수 (변경 가능한 하이퍼파라미터)\n",
    "    '''\n",
    "\n",
    "    # model 설계\n",
    "    model = tf.keras.Sequential()\n",
    "    \n",
    "    if embedding_matrix == True:\n",
    "        model.add(tf.keras.layers.Embedding(vocab_size, \n",
    "                                     word_vector_dim, \n",
    "                                     embeddings_initializer=Constant(embedding_matrix),  # 카피한 임베딩을 여기서 활용\n",
    "                                     input_length=maxlen, \n",
    "                                     trainable=True))   # trainable을 True로 주면 Fine-tuning\n",
    "    else:\n",
    "        model.add(tf.keras.layers.Embedding(vocab_size, word_vector_dim, input_shape=(None,)))\n",
    "\n",
    "    model.add(tf.keras.layers.SimpleRNN(32))  # RNN 레이어\n",
    "    model.add(tf.keras.layers.Dense(8, activation='relu'))\n",
    "    model.add(tf.keras.layers.Dense(1, activation='sigmoid')) # 최종 출력은 긍정/부정을 나타내는 1 dim 입니다.\n",
    "        \n",
    "    print(model.summary())\n",
    "    \n",
    "    return model"
   ]
  },
  {
   "cell_type": "code",
   "execution_count": 12,
   "id": "d4090973",
   "metadata": {},
   "outputs": [
    {
     "name": "stdout",
     "output_type": "stream",
     "text": [
      "Model: \"sequential_1\"\n",
      "_________________________________________________________________\n",
      "Layer (type)                 Output Shape              Param #   \n",
      "=================================================================\n",
      "embedding_1 (Embedding)      (None, None, 100)         1000000   \n",
      "_________________________________________________________________\n",
      "simple_rnn (SimpleRNN)       (None, 32)                4256      \n",
      "_________________________________________________________________\n",
      "dense_2 (Dense)              (None, 8)                 264       \n",
      "_________________________________________________________________\n",
      "dense_3 (Dense)              (None, 1)                 9         \n",
      "=================================================================\n",
      "Total params: 1,004,529\n",
      "Trainable params: 1,004,529\n",
      "Non-trainable params: 0\n",
      "_________________________________________________________________\n",
      "None\n"
     ]
    }
   ],
   "source": [
    "model_rnn = rnn_model(0, maxlen)"
   ]
  },
  {
   "cell_type": "markdown",
   "id": "5a87f1ff",
   "metadata": {},
   "source": [
    "### 세 번째 모델 GlobalMaxPooling"
   ]
  },
  {
   "cell_type": "code",
   "execution_count": 13,
   "id": "3ad28720",
   "metadata": {},
   "outputs": [],
   "source": [
    "def globalmax_model(embedding_matrix, maxlen, vocab_size=10000, word_vector_dim=100):\n",
    "    '''\n",
    "    embedding_matrix: 사전 학습된 임베딩 레이어 (없으면 0)\n",
    "    maxlen: 문장의 최대 길이\n",
    "    vocab_size: 어휘 사전의 크기입니다(단어 개수)\n",
    "    word_vector_dim: 워드 벡터의 차원 수 (변경 가능한 하이퍼파라미터)\n",
    "    '''\n",
    "\n",
    "    # model 설계\n",
    "    model = tf.keras.Sequential()\n",
    "    \n",
    "    if embedding_matrix == True:\n",
    "        model.add(tf.keras.layers.Embedding(vocab_size, \n",
    "                                     word_vector_dim, \n",
    "                                     embeddings_initializer=Constant(embedding_matrix),  # 카피한 임베딩을 여기서 활용\n",
    "                                     input_length=maxlen, \n",
    "                                     trainable=True))   # trainable을 True로 주면 Fine-tuning\n",
    "    else:\n",
    "        model.add(tf.keras.layers.Embedding(vocab_size, word_vector_dim, input_shape=(None,)))\n",
    "\n",
    "    model.add(tf.keras.layers.GlobalMaxPooling1D())  # GlobalMaxPooling 레이어\n",
    "    model.add(tf.keras.layers.Dense(8, activation='relu'))\n",
    "    model.add(tf.keras.layers.Dense(1, activation='sigmoid')) # 최종 출력은 긍정/부정을 나타내는 1 dim 입니다.\n",
    "        \n",
    "    print(model.summary())\n",
    "    \n",
    "    return model"
   ]
  },
  {
   "cell_type": "code",
   "execution_count": 20,
   "id": "f78a7a9a",
   "metadata": {},
   "outputs": [
    {
     "name": "stdout",
     "output_type": "stream",
     "text": [
      "Model: \"sequential_3\"\n",
      "_________________________________________________________________\n",
      "Layer (type)                 Output Shape              Param #   \n",
      "=================================================================\n",
      "embedding_3 (Embedding)      (None, None, 100)         1000000   \n",
      "_________________________________________________________________\n",
      "global_max_pooling1d_2 (Glob (None, 100)               0         \n",
      "_________________________________________________________________\n",
      "dense_6 (Dense)              (None, 8)                 808       \n",
      "_________________________________________________________________\n",
      "dense_7 (Dense)              (None, 1)                 9         \n",
      "=================================================================\n",
      "Total params: 1,000,817\n",
      "Trainable params: 1,000,817\n",
      "Non-trainable params: 0\n",
      "_________________________________________________________________\n",
      "None\n"
     ]
    }
   ],
   "source": [
    "model_gm = globalmax_model(0,maxlen)"
   ]
  },
  {
   "cell_type": "markdown",
   "id": "0b6bcdc8",
   "metadata": {},
   "source": [
    "## 5) 모델 훈련 개시"
   ]
  },
  {
   "cell_type": "code",
   "execution_count": 15,
   "id": "c5116c1a",
   "metadata": {},
   "outputs": [
    {
     "name": "stdout",
     "output_type": "stream",
     "text": [
      "partial_x_train size:  (116946, 41)\n",
      "partial_y_train size:  (116946,)\n"
     ]
    }
   ],
   "source": [
    "# validation set 20%로 분리\n",
    "split_ratio = 0.2\n",
    "split_index = int(len(X_train) * split_ratio)\n",
    "\n",
    "x_val = X_train[:split_index]   \n",
    "y_val = y_train[:split_index]\n",
    "\n",
    "# validation set을 제외한 나머지 80%\n",
    "partial_x_train = X_train[split_index:]  \n",
    "partial_y_train = y_train[split_index:]\n",
    "\n",
    "print(\"partial_x_train size: \", partial_x_train.shape)\n",
    "print(\"partial_y_train size: \", partial_y_train.shape)"
   ]
  },
  {
   "cell_type": "markdown",
   "id": "f8d336da",
   "metadata": {},
   "source": [
    "### CNN 훈련 및 결과"
   ]
  },
  {
   "cell_type": "code",
   "execution_count": 16,
   "id": "44f6df37",
   "metadata": {},
   "outputs": [
    {
     "name": "stdout",
     "output_type": "stream",
     "text": [
      "Epoch 1/20\n",
      "229/229 [==============================] - 5s 7ms/step - loss: 0.4570 - accuracy: 0.7788 - val_loss: 0.3427 - val_accuracy: 0.8506\n",
      "Epoch 2/20\n",
      "229/229 [==============================] - 1s 6ms/step - loss: 0.3093 - accuracy: 0.8702 - val_loss: 0.3286 - val_accuracy: 0.8588\n",
      "Epoch 3/20\n",
      "229/229 [==============================] - 1s 6ms/step - loss: 0.2590 - accuracy: 0.8952 - val_loss: 0.3301 - val_accuracy: 0.8611\n",
      "Epoch 4/20\n",
      "229/229 [==============================] - 1s 6ms/step - loss: 0.2019 - accuracy: 0.9238 - val_loss: 0.3571 - val_accuracy: 0.8545\n",
      "Epoch 5/20\n",
      "229/229 [==============================] - 1s 6ms/step - loss: 0.1411 - accuracy: 0.9503 - val_loss: 0.4158 - val_accuracy: 0.8486\n",
      "Epoch 6/20\n",
      "229/229 [==============================] - 1s 6ms/step - loss: 0.0934 - accuracy: 0.9689 - val_loss: 0.4868 - val_accuracy: 0.8457\n",
      "Epoch 7/20\n",
      "229/229 [==============================] - 1s 6ms/step - loss: 0.0627 - accuracy: 0.9808 - val_loss: 0.5695 - val_accuracy: 0.8424\n",
      "Epoch 8/20\n",
      "229/229 [==============================] - 1s 6ms/step - loss: 0.0451 - accuracy: 0.9871 - val_loss: 0.6575 - val_accuracy: 0.8419\n",
      "Epoch 9/20\n",
      "229/229 [==============================] - 1s 6ms/step - loss: 0.0355 - accuracy: 0.9898 - val_loss: 0.6980 - val_accuracy: 0.8388\n",
      "Epoch 10/20\n",
      "229/229 [==============================] - 1s 6ms/step - loss: 0.0292 - accuracy: 0.9917 - val_loss: 0.7482 - val_accuracy: 0.8373\n",
      "Epoch 11/20\n",
      "229/229 [==============================] - 1s 6ms/step - loss: 0.0247 - accuracy: 0.9931 - val_loss: 0.7965 - val_accuracy: 0.8391\n",
      "Epoch 12/20\n",
      "229/229 [==============================] - 1s 6ms/step - loss: 0.0220 - accuracy: 0.9937 - val_loss: 0.8409 - val_accuracy: 0.8367\n",
      "Epoch 13/20\n",
      "229/229 [==============================] - 1s 6ms/step - loss: 0.0210 - accuracy: 0.9938 - val_loss: 0.9182 - val_accuracy: 0.8375\n",
      "Epoch 14/20\n",
      "229/229 [==============================] - 1s 6ms/step - loss: 0.0214 - accuracy: 0.9934 - val_loss: 0.9083 - val_accuracy: 0.8330\n",
      "Epoch 15/20\n",
      "229/229 [==============================] - 1s 6ms/step - loss: 0.0245 - accuracy: 0.9922 - val_loss: 0.9787 - val_accuracy: 0.8312\n",
      "Epoch 16/20\n",
      "229/229 [==============================] - 1s 6ms/step - loss: 0.0284 - accuracy: 0.9905 - val_loss: 0.9608 - val_accuracy: 0.8334\n",
      "Epoch 17/20\n",
      "229/229 [==============================] - 1s 6ms/step - loss: 0.0240 - accuracy: 0.9922 - val_loss: 1.0802 - val_accuracy: 0.8314\n",
      "Epoch 18/20\n",
      "229/229 [==============================] - 1s 6ms/step - loss: 0.0195 - accuracy: 0.9934 - val_loss: 1.0389 - val_accuracy: 0.8299\n",
      "Epoch 19/20\n",
      "229/229 [==============================] - 1s 6ms/step - loss: 0.0157 - accuracy: 0.9952 - val_loss: 1.1043 - val_accuracy: 0.8315\n",
      "Epoch 20/20\n",
      "229/229 [==============================] - 1s 6ms/step - loss: 0.0137 - accuracy: 0.9958 - val_loss: 1.1165 - val_accuracy: 0.8328\n"
     ]
    }
   ],
   "source": [
    "model_cnn.compile(optimizer='adam',\n",
    "              loss='binary_crossentropy',\n",
    "              metrics=['accuracy'])\n",
    "              \n",
    "epochs=20  # 몇 epoch를 훈련하면 좋을지 결과를 보면서 바꾸어 봅시다. \n",
    "\n",
    "history_cnn = model_cnn.fit(partial_x_train,\n",
    "                    partial_y_train,\n",
    "                    epochs=epochs,\n",
    "                    batch_size=512,\n",
    "                    validation_data=(x_val, y_val),\n",
    "                    verbose=1)"
   ]
  },
  {
   "cell_type": "code",
   "execution_count": 17,
   "id": "186524ea",
   "metadata": {},
   "outputs": [
    {
     "name": "stdout",
     "output_type": "stream",
     "text": [
      "1537/1537 - 3s - loss: 1.1517 - accuracy: 0.8277\n",
      "[1.1517093181610107, 0.827715277671814]\n"
     ]
    }
   ],
   "source": [
    "results_cnn = model_cnn.evaluate(X_test,  y_test, verbose=2)\n",
    "\n",
    "print(results_cnn)"
   ]
  },
  {
   "cell_type": "markdown",
   "id": "a106baff",
   "metadata": {},
   "source": [
    "### RNN 훈련 및 결과"
   ]
  },
  {
   "cell_type": "code",
   "execution_count": 18,
   "id": "5b594ca5",
   "metadata": {},
   "outputs": [
    {
     "name": "stdout",
     "output_type": "stream",
     "text": [
      "Epoch 1/20\n",
      "229/229 [==============================] - 11s 42ms/step - loss: 0.4287 - accuracy: 0.8050 - val_loss: 0.3530 - val_accuracy: 0.8467\n",
      "Epoch 2/20\n",
      "229/229 [==============================] - 9s 40ms/step - loss: 0.3237 - accuracy: 0.8643 - val_loss: 0.3491 - val_accuracy: 0.8509\n",
      "Epoch 3/20\n",
      "229/229 [==============================] - 9s 41ms/step - loss: 0.2809 - accuracy: 0.8866 - val_loss: 0.3683 - val_accuracy: 0.8413\n",
      "Epoch 4/20\n",
      "229/229 [==============================] - 9s 41ms/step - loss: 0.2281 - accuracy: 0.9131 - val_loss: 0.4067 - val_accuracy: 0.8346\n",
      "Epoch 5/20\n",
      "229/229 [==============================] - 9s 41ms/step - loss: 0.1772 - accuracy: 0.9354 - val_loss: 0.4507 - val_accuracy: 0.8268\n",
      "Epoch 6/20\n",
      "229/229 [==============================] - 9s 41ms/step - loss: 0.1405 - accuracy: 0.9505 - val_loss: 0.5019 - val_accuracy: 0.8230\n",
      "Epoch 7/20\n",
      "229/229 [==============================] - 9s 41ms/step - loss: 0.1135 - accuracy: 0.9604 - val_loss: 0.5819 - val_accuracy: 0.8185\n",
      "Epoch 8/20\n",
      "229/229 [==============================] - 9s 41ms/step - loss: 0.0945 - accuracy: 0.9677 - val_loss: 0.6270 - val_accuracy: 0.8179\n",
      "Epoch 9/20\n",
      "229/229 [==============================] - 9s 41ms/step - loss: 0.0802 - accuracy: 0.9727 - val_loss: 0.6843 - val_accuracy: 0.8144\n",
      "Epoch 10/20\n",
      "229/229 [==============================] - 9s 41ms/step - loss: 0.0716 - accuracy: 0.9755 - val_loss: 0.7211 - val_accuracy: 0.8133\n",
      "Epoch 11/20\n",
      "229/229 [==============================] - 9s 41ms/step - loss: 0.0635 - accuracy: 0.9780 - val_loss: 0.7869 - val_accuracy: 0.8144\n",
      "Epoch 12/20\n",
      "229/229 [==============================] - 9s 41ms/step - loss: 0.0573 - accuracy: 0.9806 - val_loss: 0.8302 - val_accuracy: 0.8067\n",
      "Epoch 13/20\n",
      "229/229 [==============================] - 9s 41ms/step - loss: 0.0536 - accuracy: 0.9815 - val_loss: 0.8697 - val_accuracy: 0.8099\n",
      "Epoch 14/20\n",
      "229/229 [==============================] - 9s 41ms/step - loss: 0.0510 - accuracy: 0.9826 - val_loss: 0.8835 - val_accuracy: 0.8099\n",
      "Epoch 15/20\n",
      "229/229 [==============================] - 9s 41ms/step - loss: 0.0459 - accuracy: 0.9840 - val_loss: 0.9302 - val_accuracy: 0.8062\n",
      "Epoch 16/20\n",
      "229/229 [==============================] - 9s 41ms/step - loss: 0.0430 - accuracy: 0.9850 - val_loss: 0.9430 - val_accuracy: 0.8107\n",
      "Epoch 17/20\n",
      "229/229 [==============================] - 9s 41ms/step - loss: 0.0434 - accuracy: 0.9844 - val_loss: 0.9954 - val_accuracy: 0.8070\n",
      "Epoch 18/20\n",
      "229/229 [==============================] - 9s 41ms/step - loss: 0.0381 - accuracy: 0.9865 - val_loss: 1.0305 - val_accuracy: 0.8022\n",
      "Epoch 19/20\n",
      "229/229 [==============================] - 9s 40ms/step - loss: 0.0354 - accuracy: 0.9875 - val_loss: 1.0703 - val_accuracy: 0.7985\n",
      "Epoch 20/20\n",
      "229/229 [==============================] - 9s 41ms/step - loss: 0.0380 - accuracy: 0.9863 - val_loss: 1.0751 - val_accuracy: 0.8052\n"
     ]
    }
   ],
   "source": [
    "model_rnn.compile(optimizer='adam',\n",
    "              loss='binary_crossentropy',\n",
    "              metrics=['accuracy'])\n",
    "              \n",
    "epochs=20  # 몇 epoch를 훈련하면 좋을지 결과를 보면서 바꾸어 봅시다. \n",
    "\n",
    "history_rnn = model_rnn.fit(partial_x_train,\n",
    "                    partial_y_train,\n",
    "                    epochs=epochs,\n",
    "                    batch_size=512,\n",
    "                    validation_data=(x_val, y_val),\n",
    "                    verbose=1)"
   ]
  },
  {
   "cell_type": "code",
   "execution_count": 21,
   "id": "be113a3a",
   "metadata": {},
   "outputs": [
    {
     "name": "stdout",
     "output_type": "stream",
     "text": [
      "1537/1537 - 7s - loss: 1.0890 - accuracy: 0.8029\n",
      "[1.088998556137085, 0.8028764724731445]\n"
     ]
    }
   ],
   "source": [
    "results_rnn = model_rnn.evaluate(X_test,  y_test, verbose=2)\n",
    "\n",
    "print(results_rnn)"
   ]
  },
  {
   "cell_type": "markdown",
   "id": "b3ff5fae",
   "metadata": {},
   "source": [
    "### GlobalMaxPooling 훈련 및 결과"
   ]
  },
  {
   "cell_type": "code",
   "execution_count": 23,
   "id": "b0ebc945",
   "metadata": {},
   "outputs": [
    {
     "name": "stdout",
     "output_type": "stream",
     "text": [
      "Epoch 1/20\n",
      "229/229 [==============================] - 2s 6ms/step - loss: 0.4964 - accuracy: 0.7977 - val_loss: 0.3576 - val_accuracy: 0.8420\n",
      "Epoch 2/20\n",
      "229/229 [==============================] - 1s 4ms/step - loss: 0.3257 - accuracy: 0.8619 - val_loss: 0.3371 - val_accuracy: 0.8528\n",
      "Epoch 3/20\n",
      "229/229 [==============================] - 1s 4ms/step - loss: 0.2798 - accuracy: 0.8840 - val_loss: 0.3387 - val_accuracy: 0.8555\n",
      "Epoch 4/20\n",
      "229/229 [==============================] - 1s 4ms/step - loss: 0.2441 - accuracy: 0.9024 - val_loss: 0.3475 - val_accuracy: 0.8553\n",
      "Epoch 5/20\n",
      "229/229 [==============================] - 1s 4ms/step - loss: 0.2107 - accuracy: 0.9189 - val_loss: 0.3641 - val_accuracy: 0.8535\n",
      "Epoch 6/20\n",
      "229/229 [==============================] - 1s 4ms/step - loss: 0.1774 - accuracy: 0.9349 - val_loss: 0.3859 - val_accuracy: 0.8501\n",
      "Epoch 7/20\n",
      "229/229 [==============================] - 1s 5ms/step - loss: 0.1459 - accuracy: 0.9497 - val_loss: 0.4137 - val_accuracy: 0.8486\n",
      "Epoch 8/20\n",
      "229/229 [==============================] - 1s 4ms/step - loss: 0.1168 - accuracy: 0.9622 - val_loss: 0.4474 - val_accuracy: 0.8453\n",
      "Epoch 9/20\n",
      "229/229 [==============================] - 1s 4ms/step - loss: 0.0918 - accuracy: 0.9721 - val_loss: 0.4854 - val_accuracy: 0.8431\n",
      "Epoch 10/20\n",
      "229/229 [==============================] - 1s 4ms/step - loss: 0.0711 - accuracy: 0.9803 - val_loss: 0.5246 - val_accuracy: 0.8403\n",
      "Epoch 11/20\n",
      "229/229 [==============================] - 1s 4ms/step - loss: 0.0554 - accuracy: 0.9852 - val_loss: 0.5593 - val_accuracy: 0.8398\n",
      "Epoch 12/20\n",
      "229/229 [==============================] - 1s 4ms/step - loss: 0.0430 - accuracy: 0.9894 - val_loss: 0.5977 - val_accuracy: 0.8385\n",
      "Epoch 13/20\n",
      "229/229 [==============================] - 1s 4ms/step - loss: 0.0340 - accuracy: 0.9915 - val_loss: 0.6357 - val_accuracy: 0.8358\n",
      "Epoch 14/20\n",
      "229/229 [==============================] - 1s 4ms/step - loss: 0.0271 - accuracy: 0.9933 - val_loss: 0.6711 - val_accuracy: 0.8379\n",
      "Epoch 15/20\n",
      "229/229 [==============================] - 1s 4ms/step - loss: 0.0222 - accuracy: 0.9945 - val_loss: 0.7030 - val_accuracy: 0.8354\n",
      "Epoch 16/20\n",
      "229/229 [==============================] - 1s 4ms/step - loss: 0.0187 - accuracy: 0.9951 - val_loss: 0.7318 - val_accuracy: 0.8347\n",
      "Epoch 17/20\n",
      "229/229 [==============================] - 1s 4ms/step - loss: 0.0159 - accuracy: 0.9956 - val_loss: 0.7623 - val_accuracy: 0.8348\n",
      "Epoch 18/20\n",
      "229/229 [==============================] - 1s 5ms/step - loss: 0.0140 - accuracy: 0.9956 - val_loss: 0.7903 - val_accuracy: 0.8344\n",
      "Epoch 19/20\n",
      "229/229 [==============================] - 1s 4ms/step - loss: 0.0121 - accuracy: 0.9962 - val_loss: 0.8160 - val_accuracy: 0.8350\n",
      "Epoch 20/20\n",
      "229/229 [==============================] - 1s 4ms/step - loss: 0.0108 - accuracy: 0.9965 - val_loss: 0.8393 - val_accuracy: 0.8330\n"
     ]
    }
   ],
   "source": [
    "model_gm.compile(optimizer='adam',\n",
    "              loss='binary_crossentropy',\n",
    "              metrics=['accuracy'])\n",
    "              \n",
    "epochs=20  # 몇 epoch를 훈련하면 좋을지 결과를 보면서 바꾸어 봅시다. \n",
    "\n",
    "history_gm = model_gm.fit(partial_x_train,\n",
    "                    partial_y_train,\n",
    "                    epochs=epochs,\n",
    "                    batch_size=512,\n",
    "                    validation_data=(x_val, y_val),\n",
    "                    verbose=1)"
   ]
  },
  {
   "cell_type": "code",
   "execution_count": 24,
   "id": "9d423f99",
   "metadata": {},
   "outputs": [
    {
     "name": "stdout",
     "output_type": "stream",
     "text": [
      "1537/1537 - 2s - loss: 0.8565 - accuracy: 0.8265\n",
      "[0.8565140962600708, 0.8264540433883667]\n"
     ]
    }
   ],
   "source": [
    "results_gm = model_gm.evaluate(X_test,  y_test, verbose=2)\n",
    "\n",
    "print(results_gm)"
   ]
  },
  {
   "cell_type": "markdown",
   "id": "1a82db4d",
   "metadata": {},
   "source": [
    "## 6) Loss, Accuracy 그래프 시각화"
   ]
  },
  {
   "cell_type": "code",
   "execution_count": 25,
   "id": "99bc4f7b",
   "metadata": {},
   "outputs": [
    {
     "name": "stdout",
     "output_type": "stream",
     "text": [
      "dict_keys(['loss', 'accuracy', 'val_loss', 'val_accuracy'])\n"
     ]
    }
   ],
   "source": [
    "history_dict = history_cnn.history\n",
    "print(history_dict.keys()) # epoch에 따른 그래프를 그려볼 수 있는 항목들"
   ]
  },
  {
   "cell_type": "code",
   "execution_count": 26,
   "id": "57a75bed",
   "metadata": {},
   "outputs": [],
   "source": [
    "import matplotlib.pyplot as plt\n",
    "\n",
    "acc = history_dict['accuracy']\n",
    "val_acc = history_dict['val_accuracy']\n",
    "loss = history_dict['loss']\n",
    "val_loss = history_dict['val_loss']\n",
    "\n",
    "epochs = range(1, len(acc) + 1)"
   ]
  },
  {
   "cell_type": "code",
   "execution_count": 27,
   "id": "dbaff11f",
   "metadata": {},
   "outputs": [],
   "source": [
    "def result_plot(eval_name, train_eval, val_eval, epochs):\n",
    "    '''\n",
    "    eval_name: 'accuracy', 'loss'\n",
    "    '''\n",
    "    # name\n",
    "    train_label = 'Training ' + eval_name\n",
    "    val_label = 'Training ' + eval_name\n",
    "    plot_title = 'Training and validation ' + eval_name\n",
    "    \n",
    "    # draw\n",
    "    plt.plot(epochs, train_eval, 'bo', label=train_label) # \"bo\"는 \"파란색 점\"입니다\n",
    "    plt.plot(epochs, val_eval, 'b', label=val_label) # b는 \"파란 실선\"입니다\n",
    "    plt.title(plot_title)\n",
    "    plt.xlabel('Epochs')\n",
    "    plt.ylabel(eval_name)\n",
    "    plt.legend()"
   ]
  },
  {
   "cell_type": "code",
   "execution_count": 28,
   "id": "fbf364af",
   "metadata": {},
   "outputs": [
    {
     "data": {
      "image/png": "[encoded data removed]",
      "text/plain": [
       "<Figure size 432x288 with 1 Axes>"
      ]
     },
     "metadata": {
      "needs_background": "light"
     },
     "output_type": "display_data"
    }
   ],
   "source": [
    "result_plot('Loss', loss, val_loss, epochs)"
   ]
  },
  {
   "cell_type": "code",
   "execution_count": 29,
   "id": "f8fdc625",
   "metadata": {},
   "outputs": [
    {
     "data": {
      "image/png": "[encoded data removed]",
      "text/plain": [
       "<Figure size 432x288 with 1 Axes>"
      ]
     },
     "metadata": {
      "needs_background": "light"
     },
     "output_type": "display_data"
    }
   ],
   "source": [
    "result_plot('Accuracy', acc, val_acc, epochs)"
   ]
  },
  {
   "cell_type": "markdown",
   "id": "6fdc7fee",
   "metadata": {},
   "source": [
    "## 7) 학습된 Embedding 레이어 분석"
   ]
  },
  {
   "cell_type": "code",
   "execution_count": 30,
   "id": "231af13f",
   "metadata": {},
   "outputs": [
    {
     "name": "stdout",
     "output_type": "stream",
     "text": [
      "(10000, 100)\n"
     ]
    }
   ],
   "source": [
    "embedding_layer = model.layers[0]\n",
    "weights = embedding_layer.get_weights()[0]\n",
    "print(weights.shape)    # shape: (vocab_size, embedding_dim)"
   ]
  },
  {
   "cell_type": "code",
   "execution_count": 31,
   "id": "33140093",
   "metadata": {},
   "outputs": [],
   "source": [
    "import os\n",
    "\n",
    "vocab_size = weights.shape[0]\n",
    "word_vector_dim = weights.shape[1]\n",
    "\n",
    "# 학습한 Embedding 파라미터를 파일에 써서 저장합니다. \n",
    "word2vec_file_path = os.getenv('HOME')+'/aiffel/workplace/exploration/ex04/word2vec.txt'\n",
    "f = open(word2vec_file_path, 'w')\n",
    "f.write('{} {}\\n'.format(vocab_size-4, word_vector_dim))  # 몇개의 벡터를 얼마 사이즈로 기재할지 타이틀을 씁니다.\n",
    "\n",
    "# 단어 개수(에서 특수문자 4개는 제외하고)만큼의 워드 벡터를 파일에 기록합니다. \n",
    "vectors = model.get_weights()[0]\n",
    "for i in range(4,vocab_size):\n",
    "    f.write('{} {}\\n'.format(index_to_word[i], ' '.join(map(str, list(vectors[i, :])))))\n",
    "f.close()"
   ]
  },
  {
   "cell_type": "code",
   "execution_count": 32,
   "id": "32062821",
   "metadata": {},
   "outputs": [
    {
     "data": {
      "text/plain": [
       "array([-0.04407321, -0.00319362, -0.01487116, -0.03827733, -0.04826949,\n",
       "       -0.01155907, -0.03736287, -0.00327495,  0.01635257, -0.00869817,\n",
       "        0.01792267,  0.01461221,  0.03230265, -0.03731353,  0.00613331,\n",
       "        0.00729008,  0.01190798, -0.01070349,  0.02402124, -0.01754151,\n",
       "       -0.01943004,  0.03494206, -0.01110737,  0.01978768, -0.01296445,\n",
       "       -0.03251396, -0.00934353,  0.01701826, -0.03513157, -0.00935203,\n",
       "        0.0285528 , -0.03786641,  0.00513808,  0.02759087,  0.01476062,\n",
       "        0.02616345,  0.01161699,  0.01302848, -0.00469214, -0.03158619,\n",
       "        0.04872098, -0.03613473,  0.00461067,  0.04520884,  0.03750436,\n",
       "       -0.01241492, -0.03041358, -0.00982108,  0.02787762, -0.03322228,\n",
       "       -0.01774908, -0.03788294, -0.02623783,  0.01654999, -0.00916364,\n",
       "       -0.0169176 , -0.00765149, -0.02664504,  0.03672692,  0.04365844,\n",
       "        0.00363175,  0.01682774,  0.03252282,  0.00603796, -0.01853387,\n",
       "        0.03066956, -0.03738133, -0.04094013, -0.00096538,  0.01738227,\n",
       "       -0.01208596,  0.01630393, -0.03061817,  0.01586869, -0.03241998,\n",
       "       -0.0242264 , -0.04358658, -0.03179564, -0.01728214, -0.03003427,\n",
       "        0.04948506, -0.03809533, -0.02281795, -0.01564306,  0.02124027,\n",
       "       -0.03092049,  0.02137263, -0.02204883, -0.01257366,  0.02429048,\n",
       "       -0.02266438,  0.03239064,  0.03883385,  0.03534019,  0.04493887,\n",
       "        0.01960293, -0.03888273,  0.04252609,  0.02385093, -0.02593527],\n",
       "      dtype=float32)"
      ]
     },
     "execution_count": 32,
     "metadata": {},
     "output_type": "execute_result"
    }
   ],
   "source": [
    "from gensim.models.keyedvectors import Word2VecKeyedVectors\n",
    "\n",
    "word_vectors = Word2VecKeyedVectors.load_word2vec_format(word2vec_file_path, binary=False)\n",
    "vector = word_vectors['컴퓨터']\n",
    "vector"
   ]
  },
  {
   "cell_type": "code",
   "execution_count": 33,
   "id": "dbe7dcc1",
   "metadata": {},
   "outputs": [
    {
     "data": {
      "text/plain": [
       "[('동일', 0.32821688055992126),\n",
       " ('번지르르', 0.3277997076511383),\n",
       " ('지수', 0.3262002170085907),\n",
       " ('한단', 0.3242741525173187),\n",
       " ('텅', 0.3176712989807129),\n",
       " ('PD', 0.31380462646484375),\n",
       " ('-_', 0.31281813979148865),\n",
       " ('대회', 0.312574565410614),\n",
       " ('파이터', 0.30854105949401855),\n",
       " ('SM', 0.304198682308197)]"
      ]
     },
     "execution_count": 33,
     "metadata": {},
     "output_type": "execute_result"
    }
   ],
   "source": [
    "word_vectors.similar_by_word(\"사랑\")"
   ]
  },
  {
   "cell_type": "markdown",
   "id": "844a7cab",
   "metadata": {},
   "source": [
    "## 8) 한국어 Word2Vec 임베딩 활용하여 성능 개선\n",
    "- 한국어 Word2Vec은 /data 폴더 안에 있는 word2vec_ko.model을 활용하세요.\n",
    "- 한국어 Word2Vec을 활용할 때는 load_word2vec_format() 형태가 아닌 load() 형태로 모델을 불러와주세요. 또한 모델을 활용할 때에는 아래 예시와 같이 .wv를 붙여서 활용합니다. 좀더 자세한 활용법에 대해선 다음 링크들을 참조해주세요. [참고 링크1](https://radimrehurek.com/gensim/auto_examples/tutorials/run_word2vec.html#storing-and-loading-models), [참고 링크2](https://radimrehurek.com/gensim/models/keyedvectors.html)"
   ]
  },
  {
   "cell_type": "code",
   "execution_count": 34,
   "id": "9f790303",
   "metadata": {},
   "outputs": [
    {
     "data": {
      "text/plain": [
       "(100,)"
      ]
     },
     "execution_count": 34,
     "metadata": {},
     "output_type": "execute_result"
    }
   ],
   "source": [
    "from gensim.models.keyedvectors import Word2VecKeyedVectors\n",
    "word2vec_path = '/aiffel/data/word2vec_ko.model'\n",
    "word_vectors = Word2VecKeyedVectors.load(word2vec_path)\n",
    "vector = word_vectors.wv['끝']\n",
    "vector.shape"
   ]
  },
  {
   "cell_type": "code",
   "execution_count": 44,
   "id": "d8bd8677",
   "metadata": {},
   "outputs": [
    {
     "data": {
      "text/plain": [
       "[('이별', 0.7626414895057678),\n",
       " ('행복', 0.7550068497657776),\n",
       " ('슬픔', 0.7381505966186523),\n",
       " ('유혹', 0.7238055467605591),\n",
       " ('그리움', 0.7167419195175171),\n",
       " ('추억', 0.7143999338150024),\n",
       " ('꿈', 0.7089294195175171),\n",
       " ('애정', 0.7066588997840881),\n",
       " ('포옹', 0.7034594416618347),\n",
       " ('마음', 0.6972615718841553)]"
      ]
     },
     "execution_count": 44,
     "metadata": {},
     "output_type": "execute_result"
    }
   ],
   "source": [
    "# '사랑'과 유사한 단어\n",
    "word_vectors.wv.similar_by_word(\"사랑\")"
   ]
  },
  {
   "cell_type": "code",
   "execution_count": 35,
   "id": "09b3a5d9",
   "metadata": {},
   "outputs": [],
   "source": [
    "vocab_size = 10000    # 어휘 사전의 크기입니다(10,000개의 단어)\n",
    "word_vector_dim = 100  # 워드 벡터의 차원수\n",
    "embedding_matrix = np.random.rand(vocab_size, word_vector_dim)\n",
    "\n",
    "# embedding_matrix에 Word2Vec 워드 벡터를 단어 하나씩마다 차례차례 카피한다.\n",
    "for i in range(4,vocab_size):\n",
    "    if index_to_word[i] in word_vectors.wv:\n",
    "        embedding_matrix[i] = word_vectors.wv[index_to_word[i]]"
   ]
  },
  {
   "cell_type": "code",
   "execution_count": 40,
   "id": "0cb8dc7c",
   "metadata": {},
   "outputs": [
    {
     "name": "stdout",
     "output_type": "stream",
     "text": [
      "Model: \"sequential_6\"\n",
      "_________________________________________________________________\n",
      "Layer (type)                 Output Shape              Param #   \n",
      "=================================================================\n",
      "embedding_4 (Embedding)      (None, 41, 100)           1000000   \n",
      "_________________________________________________________________\n",
      "conv1d_2 (Conv1D)            (None, 35, 16)            11216     \n",
      "_________________________________________________________________\n",
      "max_pooling1d_1 (MaxPooling1 (None, 7, 16)             0         \n",
      "_________________________________________________________________\n",
      "conv1d_3 (Conv1D)            (None, 1, 16)             1808      \n",
      "_________________________________________________________________\n",
      "global_max_pooling1d_3 (Glob (None, 16)                0         \n",
      "_________________________________________________________________\n",
      "dense_8 (Dense)              (None, 8)                 136       \n",
      "_________________________________________________________________\n",
      "dense_9 (Dense)              (None, 1)                 9         \n",
      "=================================================================\n",
      "Total params: 1,013,169\n",
      "Trainable params: 1,013,169\n",
      "Non-trainable params: 0\n",
      "_________________________________________________________________\n",
      "None\n"
     ]
    }
   ],
   "source": [
    "from tensorflow.keras.initializers import Constant\n",
    "\n",
    "model = cnn_model(embedding_matrix,maxlen,vocab_size,word_vector_dim)"
   ]
  },
  {
   "cell_type": "code",
   "execution_count": 41,
   "id": "010e4fe2",
   "metadata": {},
   "outputs": [
    {
     "name": "stdout",
     "output_type": "stream",
     "text": [
      "Epoch 1/20\n",
      "229/229 [==============================] - 2s 7ms/step - loss: 0.6039 - accuracy: 0.6543 - val_loss: 0.5095 - val_accuracy: 0.7524\n",
      "Epoch 2/20\n",
      "229/229 [==============================] - 1s 6ms/step - loss: 0.4546 - accuracy: 0.7879 - val_loss: 0.4250 - val_accuracy: 0.8066\n",
      "Epoch 3/20\n",
      "229/229 [==============================] - 1s 6ms/step - loss: 0.3921 - accuracy: 0.8245 - val_loss: 0.4021 - val_accuracy: 0.8190\n",
      "Epoch 4/20\n",
      "229/229 [==============================] - 1s 6ms/step - loss: 0.3548 - accuracy: 0.8451 - val_loss: 0.3724 - val_accuracy: 0.8361\n",
      "Epoch 5/20\n",
      "229/229 [==============================] - 1s 6ms/step - loss: 0.3255 - accuracy: 0.8601 - val_loss: 0.3633 - val_accuracy: 0.8404\n",
      "Epoch 6/20\n",
      "229/229 [==============================] - 1s 6ms/step - loss: 0.3053 - accuracy: 0.8703 - val_loss: 0.3657 - val_accuracy: 0.8382\n",
      "Epoch 7/20\n",
      "229/229 [==============================] - 1s 6ms/step - loss: 0.2881 - accuracy: 0.8784 - val_loss: 0.3644 - val_accuracy: 0.8450\n",
      "Epoch 8/20\n",
      "229/229 [==============================] - 1s 6ms/step - loss: 0.2731 - accuracy: 0.8876 - val_loss: 0.3660 - val_accuracy: 0.8407\n",
      "Epoch 9/20\n",
      "229/229 [==============================] - 1s 6ms/step - loss: 0.2599 - accuracy: 0.8933 - val_loss: 0.3676 - val_accuracy: 0.8434\n",
      "Epoch 10/20\n",
      "229/229 [==============================] - 1s 6ms/step - loss: 0.2477 - accuracy: 0.8990 - val_loss: 0.3722 - val_accuracy: 0.8473\n",
      "Epoch 11/20\n",
      "229/229 [==============================] - 1s 6ms/step - loss: 0.2347 - accuracy: 0.9057 - val_loss: 0.3751 - val_accuracy: 0.8448\n",
      "Epoch 12/20\n",
      "229/229 [==============================] - 1s 6ms/step - loss: 0.2235 - accuracy: 0.9110 - val_loss: 0.3874 - val_accuracy: 0.8458\n",
      "Epoch 13/20\n",
      "229/229 [==============================] - 1s 6ms/step - loss: 0.2126 - accuracy: 0.9159 - val_loss: 0.4025 - val_accuracy: 0.8437\n",
      "Epoch 14/20\n",
      "229/229 [==============================] - 1s 6ms/step - loss: 0.2037 - accuracy: 0.9206 - val_loss: 0.4040 - val_accuracy: 0.8439\n",
      "Epoch 15/20\n",
      "229/229 [==============================] - 1s 6ms/step - loss: 0.1932 - accuracy: 0.9252 - val_loss: 0.4206 - val_accuracy: 0.8430\n",
      "Epoch 16/20\n",
      "229/229 [==============================] - 1s 6ms/step - loss: 0.1821 - accuracy: 0.9311 - val_loss: 0.4427 - val_accuracy: 0.8405\n",
      "Epoch 17/20\n",
      "229/229 [==============================] - 1s 6ms/step - loss: 0.1711 - accuracy: 0.9358 - val_loss: 0.4515 - val_accuracy: 0.8405\n",
      "Epoch 18/20\n",
      "229/229 [==============================] - 1s 6ms/step - loss: 0.1609 - accuracy: 0.9403 - val_loss: 0.4924 - val_accuracy: 0.8395\n",
      "Epoch 19/20\n",
      "229/229 [==============================] - 1s 6ms/step - loss: 0.1555 - accuracy: 0.9421 - val_loss: 0.4667 - val_accuracy: 0.8405\n",
      "Epoch 20/20\n",
      "229/229 [==============================] - 1s 6ms/step - loss: 0.1447 - accuracy: 0.9469 - val_loss: 0.4943 - val_accuracy: 0.8364\n"
     ]
    }
   ],
   "source": [
    "# 학습의 진행\n",
    "model.compile(optimizer='adam',\n",
    "              loss='binary_crossentropy',\n",
    "              metrics=['accuracy'])\n",
    "              \n",
    "epochs=20  # 몇 epoch를 훈련하면 좋을지 결과를 보면서 바꾸어 봅시다. \n",
    "\n",
    "history = model.fit(partial_x_train,\n",
    "                    partial_y_train,\n",
    "                    epochs=epochs,\n",
    "                    batch_size=512,\n",
    "                    validation_data=(x_val, y_val),\n",
    "                    verbose=1)"
   ]
  },
  {
   "cell_type": "code",
   "execution_count": 43,
   "id": "1431ceab",
   "metadata": {},
   "outputs": [
    {
     "name": "stdout",
     "output_type": "stream",
     "text": [
      "1537/1537 - 3s - loss: 0.5100 - accuracy: 0.8330\n",
      "[0.5100432634353638, 0.832963764667511]\n"
     ]
    }
   ],
   "source": [
    "# 테스트셋을 통한 모델 평가\n",
    "results = model.evaluate(X_test,  y_test, verbose=2)\n",
    "\n",
    "print(results)"
   ]
  },
  {
   "cell_type": "markdown",
   "id": "36c2b769",
   "metadata": {},
   "source": [
    "# 회고\n",
    "텍스트 분석에서 임베딩 레이어의 중요성을 배웠다. pre trained model의 사용방법과 성능향상을 경험했다. 여전히 성능을 높이기 위한 방법이 고민이다."
   ]
  }
 ],
 "metadata": {
  "kernelspec": {
   "display_name": "Python 3 (ipykernel)",
   "language": "python",
   "name": "python3"
  },
  "language_info": {
   "codemirror_mode": {
    "name": "ipython",
    "version": 3
   },
   "file_extension": ".py",
   "mimetype": "text/x-python",
   "name": "python",
   "nbconvert_exporter": "python",
   "pygments_lexer": "ipython3",
   "version": "3.9.7"
  }
 },
 "nbformat": 4,
 "nbformat_minor": 5
}
