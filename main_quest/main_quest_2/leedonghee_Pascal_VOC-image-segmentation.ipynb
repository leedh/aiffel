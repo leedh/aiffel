{
 "cells": [
  {
   "cell_type": "markdown",
   "id": "7b5c3842",
   "metadata": {},
   "source": [
    "# Motorcycle Night Ride\n",
    "- Motorcycle Night Ride (Semantic Segmentation) 데이터셋 [링크](https://www.kaggle.com/datasets/sadhliroomyprime/motorcycle-night-ride-semantic-segmentation/)\n",
    "- U-Net 모델 + a"
   ]
  },
  {
   "cell_type": "markdown",
   "id": "ccc44768",
   "metadata": {},
   "source": [
    "## 목차\n"
   ]
  },
  {
   "cell_type": "markdown",
   "id": "e2d080b9",
   "metadata": {},
   "source": [
    "## 전처리"
   ]
  }
 ],
 "metadata": {
  "kernelspec": {
   "display_name": "Python 3 (ipykernel)",
   "language": "python",
   "name": "python3"
  },
  "language_info": {
   "codemirror_mode": {
    "name": "ipython",
    "version": 3
   },
   "file_extension": ".py",
   "mimetype": "text/x-python",
   "name": "python",
   "nbconvert_exporter": "python",
   "pygments_lexer": "ipython3",
   "version": "3.9.7"
  }
 },
 "nbformat": 4,
 "nbformat_minor": 5
}
