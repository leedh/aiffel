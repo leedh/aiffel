{
 "cells": [
  {
   "cell_type": "markdown",
   "id": "4752e155",
   "metadata": {},
   "source": [
    "# Boston 주택 가격 예측\n",
    "Boston 주택 가격 예측 모델에서 사용되는 데이터셋은 보스턴 시의 주택 가격 데이터셋으로, 주택의 여러 요건과 가격 정보가 포함되어 있습니다.\n",
    "- 데이터셋의 feature에 대한 설명\n",
    "\n",
    "|feature|설명|\n",
    "|---|---|\n",
    "|CRIM|자치시별 1인당 범죄율|\n",
    "|ZN|25,000 평방피트를 초과하는 거주지역의 비율|\n",
    "|INDUS|비소매상업지역이 점유하고 있는 토지의 비율|\n",
    "|CHAS|찰스강에 대한 더미변수(강의 경계에 위치한 경우는 1, 아니면 0)|\n",
    "|NOX|10ppm 당 농축 일산화질소|\n",
    "|RM|주택 1 가구당 평균 방의 개수|\n",
    "|AGE|1940년 이전에 건축된 소유주택의 비율|\n",
    "|DIS|5개의 보스턴 직업센터까지의 접근성 지수|\n",
    "|RAD|방사형 도로까지의 접근성 지수|\n",
    "|TAX|10,000 달러당 재산세율|\n",
    "|PTRATIO|자치시(town)별 학생/교사 비율|\n",
    "|B|$1000(Bk−0.63)^2$, 여기서$Bk$는 자치시별 흑인의 비율을 말함|\n",
    "|LSTAT|모집단의 하위계층의 비율(%)|\n",
    "|MEDV|본인 소유의 주택가격(중앙값)(단위: $1,000)|"
   ]
  },
  {
   "cell_type": "markdown",
   "id": "5a471a1a",
   "metadata": {},
   "source": [
    "## 1. 데이터 로드 및 전처리\n",
    "- 먼저 데이터를 불러와 확인해 보고 전처리를 해 봅시다.\n",
    "- 데이터셋은 keras.datasets에서 불러올 수 있는 boston_housing 데이터셋을 활용합니다."
   ]
  },
  {
   "cell_type": "code",
   "execution_count": 1,
   "id": "4e98e5e9",
   "metadata": {},
   "outputs": [],
   "source": [
    "from tensorflow.keras import models, layers\n",
    "import matplotlib.pyplot as plt"
   ]
  },
  {
   "cell_type": "code",
   "execution_count": 2,
   "id": "895ccd0a",
   "metadata": {},
   "outputs": [
    {
     "name": "stdout",
     "output_type": "stream",
     "text": [
      "404\n",
      "102\n"
     ]
    }
   ],
   "source": [
    "# keras.datasets 안에 boston_housing 데이터셋을 로드합니다.\n",
    "from keras.datasets import boston_housing\n",
    "\n",
    "(train_data, train_labels), (test_data, test_labels) = boston_housing.load_data()\n",
    "\n",
    "# 데이터셋의 크기를 확인합니다.\n",
    "print(len(train_data))\n",
    "print(len(test_data))"
   ]
  },
  {
   "cell_type": "code",
   "execution_count": 6,
   "id": "4192c9f0",
   "metadata": {},
   "outputs": [
    {
     "data": {
      "text/plain": [
       "array([[1.23247e+00, 0.00000e+00, 8.14000e+00, ..., 2.10000e+01,\n",
       "        3.96900e+02, 1.87200e+01],\n",
       "       [2.17700e-02, 8.25000e+01, 2.03000e+00, ..., 1.47000e+01,\n",
       "        3.95380e+02, 3.11000e+00],\n",
       "       [4.89822e+00, 0.00000e+00, 1.81000e+01, ..., 2.02000e+01,\n",
       "        3.75520e+02, 3.26000e+00],\n",
       "       ...,\n",
       "       [3.46600e-02, 3.50000e+01, 6.06000e+00, ..., 1.69000e+01,\n",
       "        3.62250e+02, 7.83000e+00],\n",
       "       [2.14918e+00, 0.00000e+00, 1.95800e+01, ..., 1.47000e+01,\n",
       "        2.61950e+02, 1.57900e+01],\n",
       "       [1.43900e-02, 6.00000e+01, 2.93000e+00, ..., 1.56000e+01,\n",
       "        3.76700e+02, 4.38000e+00]])"
      ]
     },
     "execution_count": 6,
     "metadata": {},
     "output_type": "execute_result"
    }
   ],
   "source": [
    "train_data"
   ]
  },
  {
   "cell_type": "code",
   "execution_count": 13,
   "id": "99aff2d9",
   "metadata": {},
   "outputs": [],
   "source": [
    "import numpy as np\n",
    "# 문제 1-1: 데이터셋의 전처리를 위해 표준화 작업을 수행합니다.\n",
    "# 먼저 입력 데이터의 각 특성의 평균을 뺍니다.\n",
    "train_mean = train_data.mean(axis=0)\n",
    "train_std = train_data.std(axis=0)\n",
    "\n",
    "# 평균을 뺀 입력 데이터에서 표준편차를 나눕니다.\n",
    "# 데이터 특성의 중앙이 0에 가깝게 만들고, 표준편차가 1이 되게 만듭니다.\n",
    "train_data = (train_data - train_mean)/train_std\n",
    "\n",
    "# 테스트 데이터셋도 마찬가지로 평균을 빼고, 표준편차로 나눕니다.\n",
    "test_data = (test_data - train_mean)/train_std"
   ]
  },
  {
   "cell_type": "code",
   "execution_count": 14,
   "id": "2dffd2fb",
   "metadata": {},
   "outputs": [
    {
     "data": {
      "text/plain": [
       "(array([-1.01541438e-16,  1.09923072e-17,  1.74337992e-15, -1.26686340e-16,\n",
       "        -5.25377321e-15,  6.41414864e-15,  2.98441140e-16,  4.94653823e-16,\n",
       "         1.12671149e-17, -1.98136337e-16,  2.36686358e-14,  5.95679996e-15,\n",
       "         6.13920356e-16]),\n",
       " array([1., 1., 1., 1., 1., 1., 1., 1., 1., 1., 1., 1., 1.]))"
      ]
     },
     "execution_count": 14,
     "metadata": {},
     "output_type": "execute_result"
    }
   ],
   "source": [
    "train_data.mean(axis=0), train_data.std(axis=0)"
   ]
  },
  {
   "cell_type": "markdown",
   "id": "c3737535",
   "metadata": {},
   "source": [
    "## 2. 모델 구성 및 컴파일\n",
    "주택 가격 예측을 위한 딥러닝 모델을 구성하고 컴파일합니다. Sequential() 함수를 이용한 Sequential API 방법으로 딥러닝 모델을 구성합니다."
   ]
  },
  {
   "cell_type": "code",
   "execution_count": 15,
   "id": "2adf886c",
   "metadata": {},
   "outputs": [
    {
     "name": "stdout",
     "output_type": "stream",
     "text": [
      "Model: \"sequential\"\n",
      "_________________________________________________________________\n",
      "Layer (type)                 Output Shape              Param #   \n",
      "=================================================================\n",
      "dense_1 (Dense)              (None, 64)                896       \n",
      "_________________________________________________________________\n",
      "dense_2 (Dense)              (None, 32)                2080      \n",
      "_________________________________________________________________\n",
      "dense_3 (Dense)              (None, 16)                528       \n",
      "_________________________________________________________________\n",
      "dense_4 (Dense)              (None, 1)                 17        \n",
      "=================================================================\n",
      "Total params: 3,521\n",
      "Trainable params: 3,521\n",
      "Non-trainable params: 0\n",
      "_________________________________________________________________\n"
     ]
    }
   ],
   "source": [
    "# 문제 1-2: 주택 가격 예측을 위한 딥러닝 모델 구성 및 컴파일합니다.\n",
    "# input_shape은 (train_data.shape[1], )으로 구성합니다.\n",
    "# 회귀(예측)을 위한 모델이므로 loss를 mse, metrics를 mae로 사용합니다.\n",
    "model = models.Sequential()\n",
    "\n",
    "model.add(layers.Input(shape=(train_data.shape[1], )))\n",
    "model.add(layers.Dense(64, activation='relu', name=f'dense_{1}'))\n",
    "model.add(layers.Dense(32, activation='relu', name=f'dense_{2}'))\n",
    "model.add(layers.Dense(16, activation='relu', name=f'dense_{3}'))\n",
    "model.add(layers.Dense(1, activation='linear', name=f'dense_{4}'))\n",
    "\n",
    "model.summary()"
   ]
  },
  {
   "cell_type": "code",
   "execution_count": 16,
   "id": "19a014ae",
   "metadata": {},
   "outputs": [],
   "source": [
    "model.compile(loss='mse',\n",
    "              optimizer='Adam',\n",
    "              metrics=['mae'])"
   ]
  },
  {
   "cell_type": "markdown",
   "id": "caa64b4e",
   "metadata": {},
   "source": [
    "## 3. 모델 학습\n",
    "epochs와 batch size는 자유롭게 설정해 보세요. 모델 학습 후에는 모델 학습 결과를 시각화"
   ]
  },
  {
   "cell_type": "code",
   "execution_count": 17,
   "id": "43bdbe1d",
   "metadata": {},
   "outputs": [
    {
     "name": "stdout",
     "output_type": "stream",
     "text": [
      "Epoch 1/60\n",
      "4/4 [==============================] - 1s 53ms/step - loss: 587.1121 - mae: 22.3791 - val_loss: 604.6077 - val_mae: 22.8025\n",
      "Epoch 2/60\n",
      "4/4 [==============================] - 0s 12ms/step - loss: 572.8311 - mae: 22.0569 - val_loss: 591.0644 - val_mae: 22.4990\n",
      "Epoch 3/60\n",
      "4/4 [==============================] - 0s 8ms/step - loss: 559.0193 - mae: 21.7416 - val_loss: 577.2321 - val_mae: 22.1885\n",
      "Epoch 4/60\n",
      "4/4 [==============================] - 0s 8ms/step - loss: 545.0439 - mae: 21.4154 - val_loss: 562.0756 - val_mae: 21.8406\n",
      "Epoch 5/60\n",
      "4/4 [==============================] - 0s 8ms/step - loss: 529.6783 - mae: 21.0536 - val_loss: 544.8815 - val_mae: 21.4383\n",
      "Epoch 6/60\n",
      "4/4 [==============================] - 0s 8ms/step - loss: 512.0276 - mae: 20.6274 - val_loss: 525.1428 - val_mae: 20.9676\n",
      "Epoch 7/60\n",
      "4/4 [==============================] - 0s 9ms/step - loss: 491.9951 - mae: 20.1325 - val_loss: 502.4506 - val_mae: 20.4101\n",
      "Epoch 8/60\n",
      "4/4 [==============================] - 0s 11ms/step - loss: 468.5058 - mae: 19.5401 - val_loss: 476.0892 - val_mae: 19.7431\n",
      "Epoch 9/60\n",
      "4/4 [==============================] - 0s 11ms/step - loss: 441.7104 - mae: 18.8399 - val_loss: 445.8009 - val_mae: 18.9479\n",
      "Epoch 10/60\n",
      "4/4 [==============================] - 0s 8ms/step - loss: 410.3792 - mae: 18.0131 - val_loss: 411.5752 - val_mae: 18.0705\n",
      "Epoch 11/60\n",
      "4/4 [==============================] - 0s 9ms/step - loss: 375.8352 - mae: 17.0593 - val_loss: 373.2104 - val_mae: 17.0970\n",
      "Epoch 12/60\n",
      "4/4 [==============================] - 0s 8ms/step - loss: 337.5156 - mae: 15.9612 - val_loss: 331.6271 - val_mae: 16.0217\n",
      "Epoch 13/60\n",
      "4/4 [==============================] - 0s 8ms/step - loss: 295.8377 - mae: 14.7310 - val_loss: 288.0241 - val_mae: 14.8348\n",
      "Epoch 14/60\n",
      "4/4 [==============================] - 0s 8ms/step - loss: 253.4088 - mae: 13.4158 - val_loss: 244.2201 - val_mae: 13.4770\n",
      "Epoch 15/60\n",
      "4/4 [==============================] - 0s 9ms/step - loss: 212.1971 - mae: 12.0704 - val_loss: 202.9280 - val_mae: 12.0770\n",
      "Epoch 16/60\n",
      "4/4 [==============================] - 0s 8ms/step - loss: 172.8661 - mae: 10.7769 - val_loss: 166.3776 - val_mae: 10.9283\n",
      "Epoch 17/60\n",
      "4/4 [==============================] - 0s 8ms/step - loss: 139.1159 - mae: 9.5153 - val_loss: 135.7372 - val_mae: 9.8633\n",
      "Epoch 18/60\n",
      "4/4 [==============================] - 0s 9ms/step - loss: 112.5764 - mae: 8.4492 - val_loss: 113.1363 - val_mae: 8.9274\n",
      "Epoch 19/60\n",
      "4/4 [==============================] - 0s 8ms/step - loss: 92.3080 - mae: 7.5502 - val_loss: 98.3306 - val_mae: 8.0821\n",
      "Epoch 20/60\n",
      "4/4 [==============================] - 0s 9ms/step - loss: 80.1707 - mae: 6.9311 - val_loss: 89.3244 - val_mae: 7.4854\n",
      "Epoch 21/60\n",
      "4/4 [==============================] - 0s 9ms/step - loss: 71.7822 - mae: 6.4935 - val_loss: 82.9660 - val_mae: 7.1162\n",
      "Epoch 22/60\n",
      "4/4 [==============================] - 0s 8ms/step - loss: 66.4896 - mae: 6.1855 - val_loss: 77.0611 - val_mae: 6.8102\n",
      "Epoch 23/60\n",
      "4/4 [==============================] - 0s 8ms/step - loss: 60.8346 - mae: 5.8563 - val_loss: 71.3044 - val_mae: 6.5280\n",
      "Epoch 24/60\n",
      "4/4 [==============================] - 0s 8ms/step - loss: 55.3512 - mae: 5.5387 - val_loss: 65.8450 - val_mae: 6.2619\n",
      "Epoch 25/60\n",
      "4/4 [==============================] - 0s 8ms/step - loss: 50.3224 - mae: 5.2343 - val_loss: 61.3914 - val_mae: 6.0549\n",
      "Epoch 26/60\n",
      "4/4 [==============================] - 0s 8ms/step - loss: 46.0217 - mae: 4.9666 - val_loss: 57.6778 - val_mae: 5.8924\n",
      "Epoch 27/60\n",
      "4/4 [==============================] - 0s 8ms/step - loss: 42.6346 - mae: 4.7377 - val_loss: 54.2996 - val_mae: 5.7536\n",
      "Epoch 28/60\n",
      "4/4 [==============================] - 0s 8ms/step - loss: 39.5752 - mae: 4.5375 - val_loss: 51.3559 - val_mae: 5.6376\n",
      "Epoch 29/60\n",
      "4/4 [==============================] - 0s 8ms/step - loss: 36.7622 - mae: 4.3711 - val_loss: 48.7254 - val_mae: 5.5169\n",
      "Epoch 30/60\n",
      "4/4 [==============================] - 0s 8ms/step - loss: 34.4641 - mae: 4.2300 - val_loss: 46.2590 - val_mae: 5.3850\n",
      "Epoch 31/60\n",
      "4/4 [==============================] - 0s 8ms/step - loss: 32.5035 - mae: 4.1015 - val_loss: 44.1809 - val_mae: 5.2911\n",
      "Epoch 32/60\n",
      "4/4 [==============================] - 0s 8ms/step - loss: 30.9022 - mae: 4.0057 - val_loss: 42.3578 - val_mae: 5.1943\n",
      "Epoch 33/60\n",
      "4/4 [==============================] - 0s 8ms/step - loss: 29.4018 - mae: 3.9094 - val_loss: 40.7854 - val_mae: 5.0966\n",
      "Epoch 34/60\n",
      "4/4 [==============================] - 0s 8ms/step - loss: 28.2025 - mae: 3.8292 - val_loss: 39.4133 - val_mae: 5.0085\n",
      "Epoch 35/60\n",
      "4/4 [==============================] - 0s 8ms/step - loss: 27.1229 - mae: 3.7530 - val_loss: 38.1830 - val_mae: 4.9274\n",
      "Epoch 36/60\n",
      "4/4 [==============================] - 0s 8ms/step - loss: 26.1112 - mae: 3.6834 - val_loss: 36.9878 - val_mae: 4.8357\n",
      "Epoch 37/60\n",
      "4/4 [==============================] - 0s 8ms/step - loss: 25.1721 - mae: 3.6079 - val_loss: 35.8763 - val_mae: 4.7434\n",
      "Epoch 38/60\n",
      "4/4 [==============================] - 0s 8ms/step - loss: 24.3344 - mae: 3.5352 - val_loss: 34.7327 - val_mae: 4.6384\n",
      "Epoch 39/60\n",
      "4/4 [==============================] - 0s 12ms/step - loss: 23.5674 - mae: 3.4710 - val_loss: 33.7276 - val_mae: 4.5434\n",
      "Epoch 40/60\n",
      "4/4 [==============================] - 0s 10ms/step - loss: 22.8808 - mae: 3.4124 - val_loss: 32.6591 - val_mae: 4.4448\n",
      "Epoch 41/60\n",
      "4/4 [==============================] - 0s 8ms/step - loss: 22.2026 - mae: 3.3540 - val_loss: 31.7909 - val_mae: 4.3661\n",
      "Epoch 42/60\n",
      "4/4 [==============================] - 0s 9ms/step - loss: 21.5572 - mae: 3.2995 - val_loss: 31.1552 - val_mae: 4.3142\n",
      "Epoch 43/60\n",
      "4/4 [==============================] - 0s 8ms/step - loss: 20.9213 - mae: 3.2610 - val_loss: 30.8867 - val_mae: 4.3009\n",
      "Epoch 44/60\n",
      "4/4 [==============================] - 0s 8ms/step - loss: 20.2912 - mae: 3.2333 - val_loss: 30.6643 - val_mae: 4.2856\n",
      "Epoch 45/60\n",
      "4/4 [==============================] - 0s 8ms/step - loss: 19.7903 - mae: 3.2064 - val_loss: 30.2588 - val_mae: 4.2389\n",
      "Epoch 46/60\n",
      "4/4 [==============================] - 0s 8ms/step - loss: 19.2191 - mae: 3.1578 - val_loss: 29.7864 - val_mae: 4.1818\n",
      "Epoch 47/60\n",
      "4/4 [==============================] - 0s 8ms/step - loss: 18.7361 - mae: 3.1122 - val_loss: 29.5220 - val_mae: 4.1475\n",
      "Epoch 48/60\n",
      "4/4 [==============================] - 0s 8ms/step - loss: 18.2894 - mae: 3.0861 - val_loss: 29.4443 - val_mae: 4.1191\n",
      "Epoch 49/60\n",
      "4/4 [==============================] - 0s 8ms/step - loss: 17.7058 - mae: 3.0445 - val_loss: 28.9504 - val_mae: 4.0541\n",
      "Epoch 50/60\n",
      "4/4 [==============================] - 0s 8ms/step - loss: 17.2751 - mae: 2.9914 - val_loss: 28.1557 - val_mae: 3.9633\n",
      "Epoch 51/60\n",
      "4/4 [==============================] - 0s 8ms/step - loss: 16.8295 - mae: 2.9291 - val_loss: 27.3066 - val_mae: 3.8789\n",
      "Epoch 52/60\n",
      "4/4 [==============================] - 0s 8ms/step - loss: 16.5840 - mae: 2.8980 - val_loss: 26.7794 - val_mae: 3.8251\n",
      "Epoch 53/60\n",
      "4/4 [==============================] - 0s 8ms/step - loss: 16.2191 - mae: 2.8651 - val_loss: 26.5261 - val_mae: 3.7968\n",
      "Epoch 54/60\n",
      "4/4 [==============================] - 0s 8ms/step - loss: 15.8566 - mae: 2.8434 - val_loss: 26.7420 - val_mae: 3.7938\n",
      "Epoch 55/60\n",
      "4/4 [==============================] - 0s 8ms/step - loss: 15.4449 - mae: 2.8299 - val_loss: 26.8606 - val_mae: 3.7798\n",
      "Epoch 56/60\n",
      "4/4 [==============================] - 0s 8ms/step - loss: 15.2297 - mae: 2.8250 - val_loss: 26.8545 - val_mae: 3.7621\n",
      "Epoch 57/60\n",
      "4/4 [==============================] - 0s 8ms/step - loss: 14.9296 - mae: 2.7981 - val_loss: 26.5622 - val_mae: 3.7314\n",
      "Epoch 58/60\n",
      "4/4 [==============================] - 0s 8ms/step - loss: 14.5897 - mae: 2.7582 - val_loss: 26.4085 - val_mae: 3.7143\n",
      "Epoch 59/60\n",
      "4/4 [==============================] - 0s 8ms/step - loss: 14.3470 - mae: 2.7266 - val_loss: 26.3419 - val_mae: 3.6996\n",
      "Epoch 60/60\n",
      "4/4 [==============================] - 0s 8ms/step - loss: 14.1137 - mae: 2.7042 - val_loss: 26.5894 - val_mae: 3.6970\n"
     ]
    }
   ],
   "source": [
    "# 문제 1-3: 예측을 위한 딥러닝 모델을 학습합니다.\n",
    "history = model.fit(train_data, train_labels,\n",
    "                    epochs=60,\n",
    "                    batch_size=128,\n",
    "                    validation_data=(test_data, test_labels))"
   ]
  },
  {
   "cell_type": "code",
   "execution_count": 18,
   "id": "ccae4cad",
   "metadata": {},
   "outputs": [
    {
     "data": {
      "image/png": "[encoded data removed]",
      "text/plain": [
       "<Figure size 864x360 with 2 Axes>"
      ]
     },
     "metadata": {},
     "output_type": "display_data"
    }
   ],
   "source": [
    "# 모델 학습 히스토리에서 loss, val_loss, mae, val_mae를 차트로 보여줍니다.\n",
    "plt.style.use('seaborn-white')\n",
    "\n",
    "history_dict = history.history\n",
    "\n",
    "loss = history_dict['loss']\n",
    "val_loss = history_dict['val_loss']\n",
    "\n",
    "epochs = range(1, len(loss) + 1)\n",
    "fig = plt.figure(figsize=(12, 5))\n",
    "\n",
    "ax1 = fig.add_subplot(1, 2, 1)\n",
    "ax1.plot(epochs, loss, 'b-', label='train_loss')\n",
    "ax1.plot(epochs, val_loss, 'r-', label='val_loss')\n",
    "ax1.set_title('Train and Validation Loss')\n",
    "ax1.set_xlabel('Epochs')\n",
    "ax1.set_ylabel('Loss')\n",
    "ax1.grid()\n",
    "ax1.legend()\n",
    "\n",
    "mae = history_dict['mae']\n",
    "val_mae = history_dict['val_mae']\n",
    "\n",
    "ax2 = fig.add_subplot(1, 2, 2)\n",
    "ax2.plot(epochs, mae, 'b-', label='train_mae')\n",
    "ax2.plot(epochs, val_mae, 'r-', label='val_mae')\n",
    "ax2.set_title('Train and Validation MAE')\n",
    "ax2.set_xlabel('Epochs')\n",
    "ax2.set_ylabel('Accuracy')\n",
    "ax2.grid()\n",
    "ax2.legend()\n",
    "\n",
    "plt.show()"
   ]
  },
  {
   "cell_type": "markdown",
   "id": "bda7fafe",
   "metadata": {},
   "source": [
    "## 4. 모델 평가 및 예측\n",
    "테스트 데이터를 가져와 모델 성능을 평가"
   ]
  },
  {
   "cell_type": "code",
   "execution_count": 19,
   "id": "362f8a78",
   "metadata": {},
   "outputs": [
    {
     "name": "stdout",
     "output_type": "stream",
     "text": [
      "4/4 [==============================] - 0s 2ms/step - loss: 26.5894 - mae: 3.6970\n"
     ]
    },
    {
     "data": {
      "text/plain": [
       "[26.589427947998047, 3.6970367431640625]"
      ]
     },
     "execution_count": 19,
     "metadata": {},
     "output_type": "execute_result"
    }
   ],
   "source": [
    "# 문제 1-4: 테스트 데이터셋을 이용해 모델을 평가합니다.\n",
    "model.evaluate(test_data, test_labels)"
   ]
  }
 ],
 "metadata": {
  "kernelspec": {
   "display_name": "Python 3 (ipykernel)",
   "language": "python",
   "name": "python3"
  },
  "language_info": {
   "codemirror_mode": {
    "name": "ipython",
    "version": 3
   },
   "file_extension": ".py",
   "mimetype": "text/x-python",
   "name": "python",
   "nbconvert_exporter": "python",
   "pygments_lexer": "ipython3",
   "version": "3.9.7"
  }
 },
 "nbformat": 4,
 "nbformat_minor": 5
}
